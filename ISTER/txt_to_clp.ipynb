{
 "cells": [
  {
   "cell_type": "code",
   "execution_count": 13,
   "metadata": {},
   "outputs": [],
   "source": [
    "\n",
    "setup = \"\"\"\n",
    "(deftemplate item\n",
    "    (slot is)\n",
    "    (slot id)\n",
    "    (slot name)\n",
    "    (slot priority)\n",
    ")\n",
    "\"\"\"\n",
    "facts = []\n",
    "with open(\"facts.txt\", encoding=\"UTF-8\") as f:\n",
    "    for line in f:\n",
    "        facts.append(line.rstrip())\n",
    "with open(\"facts.clp\", \"w\", encoding=\"UTF-8\") as f:\n",
    "    f.write(setup)\n",
    "    f.write(\"(deffacts items \\n\")\n",
    "    for fact in facts:\n",
    "        s = fact.split(\" # \")\n",
    "        f.write(f\"(item (is 0) (id {s[0]}) (name {s[1]}) (priority 1))\\n\")\n",
    "    f.write(\")\")\n",
    "    f.write(\"\\n\")\n"
   ]
  },
  {
   "cell_type": "code",
   "execution_count": 19,
   "metadata": {},
   "outputs": [],
   "source": [
    "\n",
    "import re\n",
    "\n",
    "setup = \"\"\"\n",
    "\n",
    "(deftemplate ioproxy ; шаблон факта-посредника для обмена информацией с GUI\n",
    "\t(slot message (default none))\n",
    ")\n",
    "\n",
    "(deffacts proxy-fact ; экземпляр факта ioproxy\n",
    "\t(ioproxy\n",
    "\t\t(message none)\n",
    "\t)\n",
    ")\n",
    "\n",
    "(defrule clear-message\n",
    "\t(declare (salience 90))\n",
    "\t?clear-msg-flg <- (clearmessage)\n",
    "\t?sendmessage <- (sendmessagehalt ?msg)\n",
    "\t=>\n",
    "\t(retract ?clear-msg-flg)\n",
    "\t(retract ?sendmessage)\n",
    ")\n",
    "\n",
    "(defrule set-output-and-halt\n",
    "\t(declare (salience 99))\n",
    "\t?current-message <- (sendmessagehalt ?new-msg)\n",
    "\t?proxy <- (ioproxy (message ?msg))\n",
    "\t=>\n",
    "\t(modify ?proxy (message ?new-msg))\n",
    "\t(retract ?current-message)\n",
    "\t(halt)\n",
    ")\n",
    "\"\"\"\n",
    "rules = [{}]\n",
    "with open(\"rules.txt\", encoding=\"UTF-8\") as f:\n",
    "    for line in f:\n",
    "        rule = re.search(r'(.*): (.*) -> (.*) #.* -> (.*)$', line)\n",
    "        rules.append({\"name\": rule.group(1), \"facts\": rule.group(2), \"out\": rule.group(3), \"description\": rule.group(4)})\n",
    "with open(\"rules.clp\", \"w\", encoding=\"UTF-8\") as f:\n",
    "    f.write(setup)\n",
    "    for rule in rules:\n",
    "        if len(rule) == 0:\n",
    "            continue\n",
    "        f.write(f\"(defrule {rule.get('name')} \\n\")\n",
    "        f.write(\"\\t(declare  (salience 50) ) \\n\")\n",
    "        items = rule.get('facts').split(\", \")\n",
    "        for item in items:\n",
    "            f.write(f\"\\t( item (id {item}) ) \\n\")\n",
    "        f.write(\"\\t=>\\n\")\n",
    "        f.write(f\"\\t(assert ( item ( id {rule.get('out')}) ) )\\n\")\n",
    "        f.write(\"\\t(assert ( sendmessagehalt '{pep}')) \\n\".format(pep=rule.get('description')))\n",
    "        f.write(\")\")\n",
    "        f.write(\"\\n\")\n",
    "        f.write(\"\\n\")\n"
   ]
  },
  {
   "cell_type": "code",
   "execution_count": null,
   "metadata": {},
   "outputs": [],
   "source": []
  },
  {
   "cell_type": "code",
   "execution_count": null,
   "metadata": {},
   "outputs": [],
   "source": []
  },
  {
   "cell_type": "code",
   "execution_count": null,
   "metadata": {},
   "outputs": [],
   "source": []
  }
 ],
 "metadata": {
  "kernelspec": {
   "display_name": "Python 3.9.13 64-bit (microsoft store)",
   "language": "python",
   "name": "python3"
  },
  "language_info": {
   "codemirror_mode": {
    "name": "ipython",
    "version": 3
   },
   "file_extension": ".py",
   "mimetype": "text/x-python",
   "name": "python",
   "nbconvert_exporter": "python",
   "pygments_lexer": "ipython3",
   "version": "3.9.13"
  },
  "orig_nbformat": 4,
  "vscode": {
   "interpreter": {
    "hash": "e8b46d112ff5dfa3543eb4390a92f2f3ef5d43f1f64c1394040a74ac60dd2638"
   }
  }
 },
 "nbformat": 4,
 "nbformat_minor": 2
}
